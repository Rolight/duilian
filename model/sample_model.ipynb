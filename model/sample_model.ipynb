{
 "cells": [
  {
   "cell_type": "code",
   "execution_count": 1,
   "metadata": {},
   "outputs": [],
   "source": [
    "import duilian\n",
    "from IPython.display import clear_output"
   ]
  },
  {
   "cell_type": "code",
   "execution_count": 2,
   "metadata": {},
   "outputs": [
    {
     "name": "stdout",
     "output_type": "stream",
     "text": [
      "Loading utils pickle file.\n",
      "INFO:tensorflow:Restoring parameters from ./sample_model_saved/duiliam_model.ckpt\n",
      "Loaded saved model from disk.\n"
     ]
    }
   ],
   "source": [
    "# 3 layers gru seq2seq model\n",
    "model = duilian.DuiLianModel(\n",
    "    model_name='sample_model',\n",
    "    batch_size=128, \n",
    "    learning_rate=0.0005,\n",
    "    l2_reg=1e-5,\n",
    "    use_pretrained_embedding=True,\n",
    "    rnn_layer_num=3,\n",
    "    rnn_layer_dim=128\n",
    ")"
   ]
  },
  {
   "cell_type": "code",
   "execution_count": 3,
   "metadata": {},
   "outputs": [
    {
     "name": "stderr",
     "output_type": "stream",
     "text": [
      "Building prefix dict from the default dictionary ...\n",
      "Loading model from cache /var/folders/cg/0r9yfjyn38q6bf2k5dq5tw100000gn/T/jieba.cache\n",
      "Loading model cost 0.885 seconds.\n",
      "Prefix dict has been built succesfully.\n"
     ]
    },
    {
     "name": "stdout",
     "output_type": "stream",
     "text": [
      "['四', '海', '春', '风', '千', '州', '春', '色', '<EOS>']\n"
     ]
    }
   ],
   "source": [
    "model.play('八仙过海百姓安康')"
   ]
  },
  {
   "cell_type": "code",
   "execution_count": null,
   "metadata": {
    "collapsed": true
   },
   "outputs": [],
   "source": []
  }
 ],
 "metadata": {
  "kernelspec": {
   "display_name": "Python 3",
   "language": "python",
   "name": "python3"
  },
  "language_info": {
   "codemirror_mode": {
    "name": "ipython",
    "version": 3
   },
   "file_extension": ".py",
   "mimetype": "text/x-python",
   "name": "python",
   "nbconvert_exporter": "python",
   "pygments_lexer": "ipython3",
   "version": "3.6.4"
  }
 },
 "nbformat": 4,
 "nbformat_minor": 2
}
