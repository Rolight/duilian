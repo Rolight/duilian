{
 "cells": [
  {
   "cell_type": "code",
   "execution_count": 1,
   "metadata": {
    "collapsed": true
   },
   "outputs": [],
   "source": [
    "import duilian\n",
    "from IPython.display import clear_output"
   ]
  },
  {
   "cell_type": "code",
   "execution_count": 2,
   "metadata": {},
   "outputs": [
    {
     "name": "stdout",
     "output_type": "stream",
     "text": [
      "Loading utils pickle file.\n",
      "Cannot find saved model.\n"
     ]
    }
   ],
   "source": [
    "dropout_rate = 0.5\n",
    "model = duilian.DuiLianModel(\n",
    "    model_name='rinputandl2',\n",
    "    batch_size=128, \n",
    "    learning_rate=0.0005,\n",
    "    l2_reg=1e-5,\n",
    "    use_pretrained_embedding=True,\n",
    "    rnn_layer_num=5,\n",
    "    rnn_layer_dim=128\n",
    ")"
   ]
  },
  {
   "cell_type": "code",
   "execution_count": null,
   "metadata": {},
   "outputs": [
    {
     "data": {
      "text/plain": [
       "(32766, 124)"
      ]
     },
     "execution_count": 3,
     "metadata": {},
     "output_type": "execute_result"
    }
   ],
   "source": [
    "model.inputs.shape"
   ]
  },
  {
   "cell_type": "code",
   "execution_count": null,
   "metadata": {},
   "outputs": [
    {
     "name": "stdout",
     "output_type": "stream",
     "text": [
      "Model saved in path: ./rinputandl2_saved/duiliam_model.ckpt\n"
     ]
    }
   ],
   "source": [
    "# train full data\n",
    "# model.init_variables()\n",
    "\n",
    "cur_iter = 1\n",
    "max_iter = 1000000\n",
    "logger = open('train.log', 'w')\n",
    "while cur_iter < max_iter:\n",
    "    batch = model.generate_train_batch()\n",
    "    loss, _ = model.training_on_batch(model.sess, *batch, 0.5)\n",
    "    if cur_iter % 20 == 0 or cur_iter == 1:\n",
    "        logger.write('on iteration %d, loss is %.10f\\n' % (cur_iter, loss))\n",
    "        print('on iteration %d, loss is %.10f' % (cur_iter, loss))\n",
    "        model.print_global_test(1)\n",
    "        logger.flush()\n",
    "    if cur_iter % 500 == 0:\n",
    "        clear_output()\n",
    "        model.save()\n",
    "    cur_iter += 1"
   ]
  },
  {
   "cell_type": "code",
   "execution_count": null,
   "metadata": {
    "collapsed": true
   },
   "outputs": [],
   "source": []
  }
 ],
 "metadata": {
  "kernelspec": {
   "display_name": "Python 3",
   "language": "python",
   "name": "python3"
  },
  "language_info": {
   "codemirror_mode": {
    "name": "ipython",
    "version": 3
   },
   "file_extension": ".py",
   "mimetype": "text/x-python",
   "name": "python",
   "nbconvert_exporter": "python",
   "pygments_lexer": "ipython3",
   "version": "3.6.4"
  }
 },
 "nbformat": 4,
 "nbformat_minor": 2
}
